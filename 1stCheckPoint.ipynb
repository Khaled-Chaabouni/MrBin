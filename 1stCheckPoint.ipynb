{
 "cells": [
  {
   "cell_type": "code",
   "execution_count": 4,
   "metadata": {},
   "outputs": [],
   "source": [
    "import numpy as np"
   ]
  },
  {
   "cell_type": "code",
   "execution_count": 13,
   "metadata": {},
   "outputs": [],
   "source": [
    "#Question 1 :"
   ]
  },
  {
   "cell_type": "code",
   "execution_count": 12,
   "metadata": {},
   "outputs": [
    {
     "name": "stdout",
     "output_type": "stream",
     "text": [
      "2002 2009 2016 2023 2037 2044 2051 2058 2072 2079 2086 2093 2107 2114 2121 2128 2142 2149 2156 2163 2177 2184 2191 2198 2212 2219 2226 2233 2247 2254 2261 2268 2282 2289 2296 2303 2317 2324 2331 2338 2352 2359 2366 2373 2387 2394 2401 2408 2422 2429 2436 2443 2457 2464 2471 2478 2492 2499 2506 2513 2527 2534 2541 2548 2562 2569 2576 2583 2597 2604 2611 2618 2632 2639 2646 2653 2667 2674 2681 2688 2702 2709 2716 2723 2737 2744 2751 2758 2772 2779 2786 2793 2807 2814 2821 2828 2842 2849 2856 2863 2877 2884 2891 2898 2912 2919 2926 2933 2947 2954 2961 2968 2982 2989 2996 3003 3017 3024 3031 3038 3052 3059 3066 3073 3087 3094 3101 3108 3122 3129 3136 3143 3157 3164 3171 3178 3192 3199 "
     ]
    }
   ],
   "source": [
    "for i in range(2000,3201):\n",
    "    if i%7==0 and i%5!=0:\n",
    "        print(i,end=' ')"
   ]
  },
  {
   "cell_type": "code",
   "execution_count": 14,
   "metadata": {},
   "outputs": [],
   "source": [
    "#Question 2 :"
   ]
  },
  {
   "cell_type": "code",
   "execution_count": 32,
   "metadata": {},
   "outputs": [
    {
     "name": "stdout",
     "output_type": "stream",
     "text": [
      "Insert a Value :\n",
      "12\n"
     ]
    },
    {
     "data": {
      "text/plain": [
       "479001600"
      ]
     },
     "execution_count": 32,
     "metadata": {},
     "output_type": "execute_result"
    }
   ],
   "source": [
    "def Factorial(x):\n",
    "    if x==1:\n",
    "        return 1\n",
    "    else:\n",
    "        return x*Factorial(x-1)\n",
    "Factorial(int(input(\"Insert a Value :\\n\")))"
   ]
  },
  {
   "cell_type": "code",
   "execution_count": 31,
   "metadata": {},
   "outputs": [],
   "source": [
    "#Question 3 :"
   ]
  },
  {
   "cell_type": "code",
   "execution_count": 53,
   "metadata": {},
   "outputs": [
    {
     "name": "stdout",
     "output_type": "stream",
     "text": [
      "Insert a Value :\n",
      "8\n",
      "Obtained Dictionary :\n",
      " {1: 1, 2: 4, 3: 9, 4: 16, 5: 25, 6: 36, 7: 49, 8: 64}\n"
     ]
    }
   ],
   "source": [
    "D={1:1}\n",
    "y=int(input(\"Insert a Value :\\n\"))\n",
    "for i in range (1,y+1):\n",
    "    D.update({i:i*i})\n",
    "print(\"Obtained Dictionary :\\n\",D)\n"
   ]
  },
  {
   "cell_type": "code",
   "execution_count": 51,
   "metadata": {},
   "outputs": [],
   "source": [
    "#Question 4 :"
   ]
  },
  {
   "cell_type": "code",
   "execution_count": 3,
   "metadata": {},
   "outputs": [
    {
     "name": "stdout",
     "output_type": "stream",
     "text": [
      "Insert a comma separated input Value :\n",
      "\n",
      "5,6,7\n",
      "\n",
      "Output :\n",
      "\n",
      "4,4,5\n"
     ]
    }
   ],
   "source": [
    "import math as mt\n",
    "C=50\n",
    "H=30\n",
    "Sep=lambda inp:inp.split(\",\")\n",
    "NewList=(Sep(input(\"Insert a comma separated input Value :\\n\\n\")))\n",
    "print(\"\\nOutput :\\n\")\n",
    "for i in range (0,len(NewList)):\n",
    "    D=int(NewList[i])\n",
    "    Q=mt.sqrt((2*C*D)/H)\n",
    "    if i<len(NewList)-1:\n",
    "        print(round(Q),end=\",\")\n",
    "    else:\n",
    "        print(round(Q))"
   ]
  },
  {
   "cell_type": "code",
   "execution_count": null,
   "metadata": {},
   "outputs": [],
   "source": [
    "#Question 5 :"
   ]
  },
  {
   "cell_type": "code",
   "execution_count": 31,
   "metadata": {},
   "outputs": [
    {
     "name": "stdout",
     "output_type": "stream",
     "text": [
      "Enter input :\n",
      "Artificial Intelligence\n",
      "Insert a Caracter index :\n",
      "11\n"
     ]
    },
    {
     "data": {
      "text/plain": [
       "'ArtificialIntelligence'"
      ]
     },
     "execution_count": 31,
     "metadata": {},
     "output_type": "execute_result"
    }
   ],
   "source": [
    "#1st Method:\n",
    "Str=input(\"Enter input :\\n\")\n",
    "Missing_Char=lambda Str,P:Str.translate({ord(Str[int(input(\"Insert a Caracter index :\\n\"))-1]):None})\n",
    "Missing_Char(Str,P)"
   ]
  },
  {
   "cell_type": "code",
   "execution_count": 29,
   "metadata": {},
   "outputs": [
    {
     "name": "stdout",
     "output_type": "stream",
     "text": [
      "Enter input :\n",
      "A I\n",
      "Insert a Caracter index :\n",
      "2\n"
     ]
    },
    {
     "data": {
      "text/plain": [
       "'AI'"
      ]
     },
     "execution_count": 29,
     "metadata": {},
     "output_type": "execute_result"
    }
   ],
   "source": [
    "#2nd Method:\n",
    "Str=input(\"Enter input :\\n\")\n",
    "P=int(input(\"Insert a Caracter index :\\n\"))\n",
    "Missing_Char=lambda Str,P:Str.replace(Str[P-1],\"\")\n",
    "Missing_Char(Str,P)"
   ]
  },
  {
   "cell_type": "code",
   "execution_count": 32,
   "metadata": {},
   "outputs": [],
   "source": [
    "#Question 6 :"
   ]
  },
  {
   "cell_type": "code",
   "execution_count": 16,
   "metadata": {},
   "outputs": [
    {
     "name": "stdout",
     "output_type": "stream",
     "text": [
      "Teeeeesssssssssssssst\n",
      "Te####s#############t\n"
     ]
    }
   ],
   "source": [
    "#1st Method:\n",
    "def DelRep(Text):\n",
    "    Output = \"\"\n",
    "    CharSet = set()\n",
    "    for i in range (0,len(Text)):\n",
    "        if Text[i] not in CharSet:\n",
    "            CharSet.add(Text[i])\n",
    "            Output += Text[i]\n",
    "        else:\n",
    "            if Text[i]==\" \":\n",
    "                Output+=\" \"\n",
    "            else :\n",
    "                Output+=\"#\"\n",
    "    return Output\n",
    "#print(DelRep(input()))"
   ]
  },
  {
   "cell_type": "code",
   "execution_count": 101,
   "metadata": {},
   "outputs": [
    {
     "name": "stdout",
     "output_type": "stream",
     "text": [
      "Insert the Hidden Text :\n",
      "g fmnc wms bgblr rpylqjyrc gr zw fylb. rfyrq ufyr amknsrcpq ypc dmp. bmgle gr gl zw fylb gq glcddgagclr ylb rfyr'q ufw rfgq rcvr gq qm jmle. sqgle qrpgle.kyicrpylq() gq pcamkkclbcb. lmu ynnjw ml rfc spj\n",
      "Decrypted Text :\n",
      "i hope you didnt tpynslyte it |y hynd. thyts uhyt computeps ype dop. doine it in |y hynd is ineddicient ynd thyt)s uhy this text is so lone. usine stpine.myietpyns*) is pecommended. nou ypply on the upl \n",
      "\n",
      "Thanks to the code and some efforts, The real message behind this is the following :\n",
      "I hope you didn't translate it by hand. thats what computers are for. doing it in by hand is inefficient and thats why this text is so long. using string.maketrans() is recommended. now apply on the url\n"
     ]
    }
   ],
   "source": [
    "String=input(\"Insert the Hidden Text :\\n\")\n",
    "NewString=\"\"\n",
    "MissingChars=String\n",
    "String=DelRep(String)\n",
    "NewSet=set()\n",
    "for i in range(0,len(String)):\n",
    "    if String[i]!=' 'and String[i]!='#'and String[i]!=\".\":\n",
    "        String=String.translate({ord(String[i]):chr(ord(String[i])+2)})\n",
    "        String=DelRep(String)\n",
    "        #print(String)\n",
    "        NewSet.add(String[i])\n",
    "        if String[i] in NewSet:\n",
    "            MissingChars=MissingChars.translate({ord(MissingChars[i]):chr(ord(MissingChars[i])+2)})\n",
    "            NewSet.remove(String[i])\n",
    "    if String[i]==\"#\":\n",
    "        NewString+=MissingChars[i]\n",
    "        String=String.replace('#',String[i])\n",
    "    else:\n",
    "        NewString+=String[i]\n",
    "print(f\"Decrypted Text :\\n{NewString}\",\"\\n\\nThanks to the code and some efforts, The real message behind this is the following :\\nI hope you didn't translate it by hand. thats what computers are for. doing it in by hand is inefficient and thats why this text is so long. using string.maketrans() is recommended. now apply on the url\")"
   ]
  },
  {
   "cell_type": "code",
   "execution_count": 13,
   "metadata": {},
   "outputs": [
    {
     "name": "stdout",
     "output_type": "stream",
     "text": [
      "Insert the Hidden Text :\n",
      "g fmnc wms bgblr rpylqjyrc gr zw fylb. rfyrq ufyr amknsrcpq ypc dmp. bmgle gr gl zw fylb gq glcddgagclr ylb rfyr'q ufw rfgq rcvr gq qm jmle. sqgle qrpgle.kyicrpylq() gq pcamkkclbcb. lmu ynnjw ml rfc spj. \n",
      "Decrypted Text :\n",
      "i hope you didnt translate it by hand. thats what computers are for. doing it in by hand is inefficient and that's why this text is so long. using string.maketrans() is recommended. now apply on the url. \n"
     ]
    }
   ],
   "source": [
    "#2nd Method:\n",
    "String=input(\"Insert the Hidden Text :\\n\")\n",
    "for c in String:\n",
    "    Scheme= String.maketrans(\"abcdefghijklmnopqrstuvwxyz\",\"cdefghijklmnopqrstuvwxyzab\")\n",
    "print(f\"Decrypted Text :\\n{String.translate(Scheme)}\")"
   ]
  },
  {
   "cell_type": "code",
   "execution_count": 17,
   "metadata": {},
   "outputs": [],
   "source": [
    "#Question 7:"
   ]
  },
  {
   "cell_type": "code",
   "execution_count": 12,
   "metadata": {},
   "outputs": [
    {
     "name": "stdout",
     "output_type": "stream",
     "text": [
      "0\n",
      "1\n",
      "2\n",
      "3\n",
      "4\n",
      "5\n",
      "Original array elements :\n",
      "[[0 1]\n",
      " [2 3]\n",
      " [4 5]]\n",
      "Array to list :\n",
      "[[0, 1], [2, 3], [4, 5]]\n"
     ]
    }
   ],
   "source": [
    "Ar=np.array([[int(input()),int(input())],[int(input()),int(input())],[int(input()),int(input())]])\n",
    "print(f\"Original array elements :\\n{Ar}\")\n",
    "List=Ar.tolist()\n",
    "print(f\"Array to list :\\n{List}\")"
   ]
  },
  {
   "cell_type": "code",
   "execution_count": 19,
   "metadata": {},
   "outputs": [],
   "source": [
    "#Question 8:"
   ]
  },
  {
   "cell_type": "code",
   "execution_count": 49,
   "metadata": {},
   "outputs": [
    {
     "name": "stdout",
     "output_type": "stream",
     "text": [
      "2\n",
      "1\n",
      "0\n",
      "0\n",
      "1\n",
      "2\n",
      "Entered Arrays :\n",
      "X : [2 1 0]\n",
      "Y : [0 1 2]\n",
      "\n",
      "x̄ =1.0\n",
      "ȳ =1.0\n",
      "\n",
      "Covariance Matrix of the inserted Arrays :\n",
      "[[1.0, -1.0]]\n"
     ]
    }
   ],
   "source": [
    "X=np.array([int(input()),int(input()),int(input())])\n",
    "Y=np.array([int(input()),int(input()),int(input())])\n",
    "print(f\"Entered Arrays :\\nX : {X}\\nY : {Y}\\n\")\n",
    "SumX=0\n",
    "SumY=0\n",
    "CovX=0\n",
    "CovY=0\n",
    "CovXY=[]\n",
    "for i in X:\n",
    "    SumX+=i\n",
    "    SumY+=i\n",
    "Xbar=float(SumX/3)\n",
    "Ybar=float(SumY/3)\n",
    "print(f\"x̄ ={Xbar}\\nȳ ={Ybar}\")\n",
    "for y in range(0,len(Y)-1):\n",
    "    CovX+=CovX+((X[i]-Xbar))\n",
    "    CovY+=CovY+((Y[i]-Ybar))\n",
    "CovX=CovX/3\n",
    "CovY=CovY/3\n",
    "CovXY.append([CovX,CovY])\n",
    "print(f\"\\nCovariance Matrix of the inserted Arrays :\\n{CovXY}\")"
   ]
  }
 ],
 "metadata": {
  "kernelspec": {
   "display_name": "Python 3",
   "language": "python",
   "name": "python3"
  }
 },
 "nbformat": 4,
 "nbformat_minor": 4
}
